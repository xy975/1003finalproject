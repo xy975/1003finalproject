{
 "cells": [
  {
   "cell_type": "code",
   "execution_count": 1,
   "metadata": {
    "collapsed": true
   },
   "outputs": [],
   "source": [
    "import os\n",
    "import numpy as np\n",
    "import pickle\n",
    "import random\n",
    "from collections import Counter\n",
    "from datetime import datetime\n",
    "import matplotlib.pyplot as plt\n",
    "%matplotlib inline\n",
    "import pandas as pd\n",
    "import math\n",
    "import copy\n",
    "from sklearn.utils import shuffle\n",
    "from textblob import TextBlob\n",
    "import pandas as pd\n",
    "import re\n",
    "import emoji as emoji\n",
    "\n",
    "df = pd.read_csv(\"Tweets.csv\")"
   ]
  },
  {
   "cell_type": "code",
   "execution_count": 26,
   "metadata": {
    "collapsed": false
   },
   "outputs": [
    {
     "data": {
      "text/plain": [
       "0.6269125683060109"
      ]
     },
     "execution_count": 26,
     "metadata": {},
     "output_type": "execute_result"
    }
   ],
   "source": [
    "df[df[\"airline_sentiment\"]==\"negative\"].shape[0] / df.shape[0]"
   ]
  },
  {
   "cell_type": "markdown",
   "metadata": {},
   "source": [
    "## negative is a major class. So, we may consider balance the data in the future analysis"
   ]
  },
  {
   "cell_type": "code",
   "execution_count": null,
   "metadata": {
    "collapsed": true
   },
   "outputs": [],
   "source": []
  },
  {
   "cell_type": "markdown",
   "metadata": {},
   "source": [
    "# Process Data"
   ]
  },
  {
   "cell_type": "code",
   "execution_count": 4,
   "metadata": {
    "collapsed": false
   },
   "outputs": [],
   "source": [
    "# not test yet\n",
    "# def sub_removeat(df):\n",
    "#     val = re.sub(r\"@\\w+\", \"\",df[\"text\"])\n",
    "#     return val\n",
    "# df['remove'] = df.apply(sub_removeat, axis=1) # remove anything starts with @"
   ]
  },
  {
   "cell_type": "markdown",
   "metadata": {},
   "source": [
    "### (1): remove \"@\" and remove any URL (assume it always starts with http)"
   ]
  },
  {
   "cell_type": "code",
   "execution_count": 5,
   "metadata": {
    "collapsed": false
   },
   "outputs": [],
   "source": [
    "def sub_remove(df):\n",
    "    val = re.sub('@', \"\",df[\"text\"]) \n",
    "    val = re.sub(r\"http\\w+\",\"\",val) # remove http://\n",
    "    return val\n",
    "df['remove_1'] = df.apply(sub_remove, axis=1) # remove anything starts with @\n"
   ]
  },
  {
   "cell_type": "code",
   "execution_count": 6,
   "metadata": {
    "collapsed": false
   },
   "outputs": [],
   "source": [
    "df = shuffle(df)\n",
    "# choose the 80% for test  for training data\n",
    "train_df = df[:11712].reset_index()\n",
    "test_df = df[11712:].reset_index()\n"
   ]
  },
  {
   "cell_type": "code",
   "execution_count": 7,
   "metadata": {
    "collapsed": false
   },
   "outputs": [],
   "source": [
    "def read_data(file):\n",
    "    lines = file.split(' ')\n",
    "    symbols = '@$#{}()[].,:;+-*/&|<>=~\" '\n",
    "    table = str.maketrans(\"a\", \"a\", symbols)\n",
    "    words = map(lambda Element: Element.translate(table).strip(), lines)\n",
    "    words = list(filter(None, words))\n",
    "    for i in range(len(words)):\n",
    "        try:\n",
    "            words[i] = emoji.demojize(words[i])  # converting emoji to \n",
    "        except:\n",
    "            pass \n",
    "    \n",
    "    return words"
   ]
  },
  {
   "cell_type": "code",
   "execution_count": 8,
   "metadata": {
    "collapsed": false
   },
   "outputs": [],
   "source": [
    "# WIP\n",
    "\n",
    "def read_data_demojize(file):\n",
    "    lines = file.split(' ')\n",
    "    symbols = '@$#{}()[].,:;+-*/&|<>=~\" '\n",
    "    table = str.maketrans(\"a\", \"a\", symbols)\n",
    "    words = map(lambda Element: Element.translate(table).strip(), lines)\n",
    "    words = list(filter(None, words))\n",
    "    for i in range(len(words)):\n",
    "        if words[i] in emoji.UNICODE_EMOJI:\n",
    "            words.remove(words[i])\n",
    "    return words\n"
   ]
  },
  {
   "cell_type": "code",
   "execution_count": 9,
   "metadata": {
    "collapsed": true
   },
   "outputs": [],
   "source": [
    "def char_is_emoji(character):\n",
    "    return character in emoji.UNICODE_EMOJI"
   ]
  },
  {
   "cell_type": "code",
   "execution_count": 10,
   "metadata": {
    "collapsed": false
   },
   "outputs": [
    {
     "data": {
      "text/plain": [
       "['i', ':red_heart:️', 'flying', 'virginamerica', ':smiling_face:️:thumbs_up:']"
      ]
     },
     "execution_count": 10,
     "metadata": {},
     "output_type": "execute_result"
    }
   ],
   "source": [
    "#df[\"remove_1\"][18].lower()\n",
    "\n",
    "read_data('i ❤️ flying virginamerica. ☺️👍')"
   ]
  },
  {
   "cell_type": "code",
   "execution_count": 11,
   "metadata": {
    "collapsed": true
   },
   "outputs": [],
   "source": [
    "def process_data(database,col_name=\"remove_1\"):\n",
    "    x_list = list()\n",
    "    y_list = list() \n",
    "    for i in range(database.shape[0]):\n",
    "        line = database[col_name][i].lower()\n",
    "        x_list.append(read_data(line))\n",
    "        y_list.append(database[\"airline_sentiment\"][i])\n",
    "            \n",
    "    return x_list,y_list "
   ]
  },
  {
   "cell_type": "code",
   "execution_count": 12,
   "metadata": {
    "collapsed": false
   },
   "outputs": [],
   "source": [
    "X_train,y_train = process_data(train_df)\n",
    "X_test,y_test = process_data(test_df)\n"
   ]
  },
  {
   "cell_type": "code",
   "execution_count": 13,
   "metadata": {
    "collapsed": false
   },
   "outputs": [],
   "source": [
    "def sparse_count(dataset):\n",
    "    count_list = list()\n",
    "    for i in dataset:\n",
    "        count_list.append(dict(Counter(i)))\n",
    "    return count_list\n",
    "\n",
    "X_train_sparse = sparse_count(X_train)\n",
    "X_test_sparse = sparse_count(X_test)"
   ]
  },
  {
   "cell_type": "code",
   "execution_count": 14,
   "metadata": {
    "collapsed": true
   },
   "outputs": [],
   "source": [
    "def dotProduct(d1, d2):\n",
    "    \"\"\"\n",
    "    @param dict d1: a feature vector represented by a mapping from a feature (string) to a weight (float).\n",
    "    @param dict d2: same as d1\n",
    "    @return float: the dot product between d1 and d2\n",
    "    \"\"\"\n",
    "    if len(d1) < len(d2):\n",
    "        return dotProduct(d2, d1)\n",
    "    else:\n",
    "        return sum(d1.get(f, 0) * v for f, v in d2.items())"
   ]
  },
  {
   "cell_type": "code",
   "execution_count": 15,
   "metadata": {
    "collapsed": true
   },
   "outputs": [],
   "source": [
    "def increment(d1, scale, d2):\n",
    "    \"\"\"\n",
    "    Implements d1 += scale * d2 for sparse vectors.\n",
    "    @param dict d1: the feature vector which is mutated.\n",
    "    @param float scale\n",
    "    @param dict d2: a feature vector.\n",
    "\n",
    "    NOTE: This function does not return anything, but rather\n",
    "    increments d1 in place. We do this because it is much faster to\n",
    "    change elements of d1 in place than to build a new dictionary and\n",
    "    return it.\n",
    "    \"\"\"\n",
    "    for f, v in d2.items():\n",
    "        d1[f] = d1.get(f, 0) + v * scale\n"
   ]
  },
  {
   "cell_type": "code",
   "execution_count": 16,
   "metadata": {
    "collapsed": true
   },
   "outputs": [],
   "source": [
    "def predict_loss(w,X,y):\n",
    "    loss = 0 \n",
    "    for i in range(len(X)):\n",
    "        pred = dotProduct(w,X[i])\n",
    "        if pred * y[i] < 0:\n",
    "            loss += 1 \n",
    "    return loss / len(X)\n",
    "    "
   ]
  },
  {
   "cell_type": "code",
   "execution_count": 17,
   "metadata": {
    "collapsed": true
   },
   "outputs": [],
   "source": [
    "# re-define pegasos by adding randomly shuffule data for mutilple round run \n",
    "def pegasos_2(X,y,Lambda,max_round = 50):\n",
    "    t = 1\n",
    "    s = 1 \n",
    "    round_count = 0\n",
    "    W = dict()\n",
    "    \n",
    "    while round_count < max_round:\n",
    "        \n",
    "        index_list = list(range(len(X))) \n",
    "        random.shuffle(index_list) # shuffle everytime \n",
    "        round_count += 1 \n",
    "        for i in index_list:\n",
    "            t+= 1\n",
    "            nt = 1/(t*Lambda)\n",
    "            s = (1-nt * Lambda) * s \n",
    "            if y[i]*s*dotProduct(W,X[i]) < 1:\n",
    "                increment(W,(1/s)*nt*y[i],X[i])\n",
    "    \n",
    "    increment(W,(s-1),W) #rescale w= W+(s-1)W\n",
    "\n",
    "    return W"
   ]
  },
  {
   "cell_type": "code",
   "execution_count": 18,
   "metadata": {
    "collapsed": true
   },
   "outputs": [],
   "source": [
    "def svm_pegasos(y_train_y,y_test_y,label):\n",
    "    y_train = copy.deepcopy(y_train_y)\n",
    "    for i in range(len(y_train)):\n",
    "        if y_train[i] == label:\n",
    "            y_train[i] = 1\n",
    "        else:\n",
    "            y_train[i] = -1  \n",
    "            \n",
    "    y_test = copy.deepcopy(y_test_y)\n",
    "    for i in range(len(y_test)):\n",
    "        if y_test[i] == label:\n",
    "            y_test[i] = 1\n",
    "        else:\n",
    "            y_test[i] = -1\n",
    "    w_list = list()\n",
    "    Lambda_list = list()\n",
    "    loss_list = list()\n",
    "\n",
    "    for i in range(-10,4):\n",
    "        Lambda_list.append(10**i)\n",
    "        w_inuse = pegasos_2(X_train_sparse,y_train,10**i)\n",
    "        w_list.append(w_inuse)\n",
    "        loss = predict_loss(w_inuse,X_test_sparse,y_test)\n",
    "        loss_list.append(loss)\n",
    "    best_Lambda = Lambda_list[np.argmin((np.array(loss_list)))]\n",
    "    best_w = w_list[np.argmin((np.array(loss_list)))]\n",
    "    print (\"Best Lambda to choose:\", best_Lambda)\n",
    "    print (\"Minimum loss is:\",min(loss_list))\n",
    "    fig = plt.figure(figsize = (8,4))\n",
    "    plt.plot(Lambda_list,loss_list)\n",
    "    plt.xscale('log')\n",
    "    plt.title(\"Searching for Lambda for the validation loss\")\n",
    "    plt.show()\n",
    "    pred_score_list = list()\n",
    "    pred_list = list()\n",
    "    abs_pred_score_list = list()\n",
    "    correction = list()\n",
    "    for i in range(len(X_test_sparse)):\n",
    "        pred_score_list.append(dotProduct(best_w,X_test_sparse[i]))\n",
    "        abs_pred_score_list.append(abs(dotProduct(best_w,X_test_sparse[i])))\n",
    "\n",
    "        if dotProduct(best_w,X_test_sparse[i]) > 0:\n",
    "            pred_list.append(1)\n",
    "        else:\n",
    "            pred_list.append(-1)\n",
    "\n",
    "        if dotProduct(best_w,X_test_sparse[i])*y_test[i] > 0:\n",
    "            correction.append(1)\n",
    "        else:\n",
    "            correction.append(0)\n",
    "    return pred_score_list"
   ]
  },
  {
   "cell_type": "code",
   "execution_count": 19,
   "metadata": {
    "collapsed": false
   },
   "outputs": [
    {
     "name": "stdout",
     "output_type": "stream",
     "text": [
      "Best Lambda to choose: 0.001\n",
      "Minimum loss is: 0.14685792349726776\n"
     ]
    },
    {
     "data": {
      "image/png": "[encoded data removed]",
      "text/plain": [
       "<matplotlib.figure.Figure at 0x110e1cf60>"
      ]
     },
     "metadata": {},
     "output_type": "display_data"
    },
    {
     "name": "stdout",
     "output_type": "stream",
     "text": [
      "Best Lambda to choose: 0.001\n",
      "Minimum loss is: 0.15778688524590165\n"
     ]
    },
    {
     "data": {
      "image/png": "[encoded data removed]",
      "text/plain": [
       "<matplotlib.figure.Figure at 0x1153e8e48>"
      ]
     },
     "metadata": {},
     "output_type": "display_data"
    },
    {
     "name": "stdout",
     "output_type": "stream",
     "text": [
      "Best Lambda to choose: 0.0001\n",
      "Minimum loss is: 0.09596994535519125\n"
     ]
    },
    {
     "data": {
      "image/png": "[encoded data removed]",
      "text/plain": [
       "<matplotlib.figure.Figure at 0x11610ca20>"
      ]
     },
     "metadata": {},
     "output_type": "display_data"
    }
   ],
   "source": [
    "pred_score_list_neutral = svm_pegasos(y_train,y_test,\"neutral\")\n",
    "pred_score_list_negative = svm_pegasos(y_train,y_test,\"negative\")\n",
    "pred_score_list_positive = svm_pegasos(y_train,y_test,\"positive\")"
   ]
  },
  {
   "cell_type": "code",
   "execution_count": 20,
   "metadata": {
    "collapsed": false
   },
   "outputs": [],
   "source": [
    "\n",
    "result = pd.DataFrame.from_dict({'Correct': y_test,\n",
    "         'positive': pred_score_list_positive,\n",
    "         'negative': pred_score_list_negative,\n",
    "         'neutral': pred_score_list_neutral})\n"
   ]
  },
  {
   "cell_type": "code",
   "execution_count": 21,
   "metadata": {
    "collapsed": false
   },
   "outputs": [],
   "source": [
    "result[\"predict\"] = result[[\"negative\",\"neutral\",\"positive\"]].idxmax(axis=1)"
   ]
  },
  {
   "cell_type": "code",
   "execution_count": 22,
   "metadata": {
    "collapsed": false
   },
   "outputs": [
    {
     "data": {
      "text/html": [
       "<div>\n",
       "<table border=\"1\" class=\"dataframe\">\n",
       "  <thead>\n",
       "    <tr style=\"text-align: right;\">\n",
       "      <th></th>\n",
       "      <th>Correct</th>\n",
       "      <th>negative</th>\n",
       "      <th>neutral</th>\n",
       "      <th>positive</th>\n",
       "      <th>predict</th>\n",
       "    </tr>\n",
       "  </thead>\n",
       "  <tbody>\n",
       "    <tr>\n",
       "      <th>0</th>\n",
       "      <td>negative</td>\n",
       "      <td>1.296104</td>\n",
       "      <td>-1.371241</td>\n",
       "      <td>-1.946718</td>\n",
       "      <td>negative</td>\n",
       "    </tr>\n",
       "    <tr>\n",
       "      <th>1</th>\n",
       "      <td>neutral</td>\n",
       "      <td>0.399589</td>\n",
       "      <td>-0.739411</td>\n",
       "      <td>-2.100406</td>\n",
       "      <td>negative</td>\n",
       "    </tr>\n",
       "    <tr>\n",
       "      <th>2</th>\n",
       "      <td>positive</td>\n",
       "      <td>-1.671787</td>\n",
       "      <td>-0.677936</td>\n",
       "      <td>1.024588</td>\n",
       "      <td>positive</td>\n",
       "    </tr>\n",
       "    <tr>\n",
       "      <th>3</th>\n",
       "      <td>neutral</td>\n",
       "      <td>-1.226091</td>\n",
       "      <td>-0.913591</td>\n",
       "      <td>1.075818</td>\n",
       "      <td>positive</td>\n",
       "    </tr>\n",
       "    <tr>\n",
       "      <th>4</th>\n",
       "      <td>negative</td>\n",
       "      <td>2.050884</td>\n",
       "      <td>-2.209696</td>\n",
       "      <td>-0.802594</td>\n",
       "      <td>negative</td>\n",
       "    </tr>\n",
       "    <tr>\n",
       "      <th>5</th>\n",
       "      <td>negative</td>\n",
       "      <td>1.446377</td>\n",
       "      <td>-0.952867</td>\n",
       "      <td>-3.449448</td>\n",
       "      <td>negative</td>\n",
       "    </tr>\n",
       "    <tr>\n",
       "      <th>6</th>\n",
       "      <td>neutral</td>\n",
       "      <td>-0.059768</td>\n",
       "      <td>-1.451500</td>\n",
       "      <td>-0.102459</td>\n",
       "      <td>negative</td>\n",
       "    </tr>\n",
       "    <tr>\n",
       "      <th>7</th>\n",
       "      <td>neutral</td>\n",
       "      <td>-0.401297</td>\n",
       "      <td>0.512294</td>\n",
       "      <td>-2.066253</td>\n",
       "      <td>neutral</td>\n",
       "    </tr>\n",
       "    <tr>\n",
       "      <th>8</th>\n",
       "      <td>negative</td>\n",
       "      <td>2.122606</td>\n",
       "      <td>-2.325816</td>\n",
       "      <td>-4.286195</td>\n",
       "      <td>negative</td>\n",
       "    </tr>\n",
       "    <tr>\n",
       "      <th>9</th>\n",
       "      <td>negative</td>\n",
       "      <td>0.886269</td>\n",
       "      <td>-0.932375</td>\n",
       "      <td>-2.049177</td>\n",
       "      <td>negative</td>\n",
       "    </tr>\n",
       "    <tr>\n",
       "      <th>10</th>\n",
       "      <td>negative</td>\n",
       "      <td>1.128755</td>\n",
       "      <td>-0.915299</td>\n",
       "      <td>-2.544395</td>\n",
       "      <td>negative</td>\n",
       "    </tr>\n",
       "    <tr>\n",
       "      <th>11</th>\n",
       "      <td>negative</td>\n",
       "      <td>0.104166</td>\n",
       "      <td>-1.140708</td>\n",
       "      <td>-0.273224</td>\n",
       "      <td>negative</td>\n",
       "    </tr>\n",
       "    <tr>\n",
       "      <th>12</th>\n",
       "      <td>neutral</td>\n",
       "      <td>-0.070014</td>\n",
       "      <td>-0.469603</td>\n",
       "      <td>-0.802594</td>\n",
       "      <td>negative</td>\n",
       "    </tr>\n",
       "    <tr>\n",
       "      <th>13</th>\n",
       "      <td>negative</td>\n",
       "      <td>2.522195</td>\n",
       "      <td>-2.404367</td>\n",
       "      <td>-2.305324</td>\n",
       "      <td>negative</td>\n",
       "    </tr>\n",
       "    <tr>\n",
       "      <th>14</th>\n",
       "      <td>negative</td>\n",
       "      <td>1.079233</td>\n",
       "      <td>-1.594943</td>\n",
       "      <td>-1.639341</td>\n",
       "      <td>negative</td>\n",
       "    </tr>\n",
       "    <tr>\n",
       "      <th>15</th>\n",
       "      <td>negative</td>\n",
       "      <td>1.398563</td>\n",
       "      <td>-2.049177</td>\n",
       "      <td>-0.785518</td>\n",
       "      <td>negative</td>\n",
       "    </tr>\n",
       "    <tr>\n",
       "      <th>16</th>\n",
       "      <td>negative</td>\n",
       "      <td>1.149247</td>\n",
       "      <td>-0.679644</td>\n",
       "      <td>-2.954230</td>\n",
       "      <td>negative</td>\n",
       "    </tr>\n",
       "    <tr>\n",
       "      <th>17</th>\n",
       "      <td>negative</td>\n",
       "      <td>1.912565</td>\n",
       "      <td>-2.522195</td>\n",
       "      <td>-1.331965</td>\n",
       "      <td>negative</td>\n",
       "    </tr>\n",
       "    <tr>\n",
       "      <th>18</th>\n",
       "      <td>neutral</td>\n",
       "      <td>-0.671105</td>\n",
       "      <td>-0.010246</td>\n",
       "      <td>-0.700135</td>\n",
       "      <td>neutral</td>\n",
       "    </tr>\n",
       "    <tr>\n",
       "      <th>19</th>\n",
       "      <td>negative</td>\n",
       "      <td>3.806346</td>\n",
       "      <td>-2.933738</td>\n",
       "      <td>-4.576495</td>\n",
       "      <td>negative</td>\n",
       "    </tr>\n",
       "    <tr>\n",
       "      <th>20</th>\n",
       "      <td>negative</td>\n",
       "      <td>1.743508</td>\n",
       "      <td>-2.667345</td>\n",
       "      <td>-1.810106</td>\n",
       "      <td>negative</td>\n",
       "    </tr>\n",
       "    <tr>\n",
       "      <th>21</th>\n",
       "      <td>negative</td>\n",
       "      <td>3.459694</td>\n",
       "      <td>-2.896170</td>\n",
       "      <td>-4.200812</td>\n",
       "      <td>negative</td>\n",
       "    </tr>\n",
       "    <tr>\n",
       "      <th>22</th>\n",
       "      <td>negative</td>\n",
       "      <td>1.622265</td>\n",
       "      <td>-1.349041</td>\n",
       "      <td>-2.339477</td>\n",
       "      <td>negative</td>\n",
       "    </tr>\n",
       "    <tr>\n",
       "      <th>23</th>\n",
       "      <td>neutral</td>\n",
       "      <td>-0.247609</td>\n",
       "      <td>-0.256147</td>\n",
       "      <td>-0.819671</td>\n",
       "      <td>negative</td>\n",
       "    </tr>\n",
       "    <tr>\n",
       "      <th>24</th>\n",
       "      <td>negative</td>\n",
       "      <td>1.226091</td>\n",
       "      <td>-0.896515</td>\n",
       "      <td>-3.859283</td>\n",
       "      <td>negative</td>\n",
       "    </tr>\n",
       "    <tr>\n",
       "      <th>25</th>\n",
       "      <td>positive</td>\n",
       "      <td>-0.626707</td>\n",
       "      <td>-1.764000</td>\n",
       "      <td>0.187841</td>\n",
       "      <td>positive</td>\n",
       "    </tr>\n",
       "    <tr>\n",
       "      <th>26</th>\n",
       "      <td>neutral</td>\n",
       "      <td>0.044399</td>\n",
       "      <td>-0.679644</td>\n",
       "      <td>-0.648906</td>\n",
       "      <td>negative</td>\n",
       "    </tr>\n",
       "    <tr>\n",
       "      <th>27</th>\n",
       "      <td>neutral</td>\n",
       "      <td>-1.074110</td>\n",
       "      <td>1.041665</td>\n",
       "      <td>-2.920077</td>\n",
       "      <td>neutral</td>\n",
       "    </tr>\n",
       "    <tr>\n",
       "      <th>28</th>\n",
       "      <td>negative</td>\n",
       "      <td>2.942276</td>\n",
       "      <td>-2.655392</td>\n",
       "      <td>-2.527318</td>\n",
       "      <td>negative</td>\n",
       "    </tr>\n",
       "    <tr>\n",
       "      <th>29</th>\n",
       "      <td>negative</td>\n",
       "      <td>1.357580</td>\n",
       "      <td>-2.132852</td>\n",
       "      <td>-1.519806</td>\n",
       "      <td>negative</td>\n",
       "    </tr>\n",
       "    <tr>\n",
       "      <th>...</th>\n",
       "      <td>...</td>\n",
       "      <td>...</td>\n",
       "      <td>...</td>\n",
       "      <td>...</td>\n",
       "      <td>...</td>\n",
       "    </tr>\n",
       "    <tr>\n",
       "      <th>2898</th>\n",
       "      <td>neutral</td>\n",
       "      <td>-1.028004</td>\n",
       "      <td>-0.181011</td>\n",
       "      <td>-0.256147</td>\n",
       "      <td>neutral</td>\n",
       "    </tr>\n",
       "    <tr>\n",
       "      <th>2899</th>\n",
       "      <td>positive</td>\n",
       "      <td>-0.370559</td>\n",
       "      <td>0.051229</td>\n",
       "      <td>-1.502730</td>\n",
       "      <td>neutral</td>\n",
       "    </tr>\n",
       "    <tr>\n",
       "      <th>2900</th>\n",
       "      <td>negative</td>\n",
       "      <td>1.181692</td>\n",
       "      <td>-1.569328</td>\n",
       "      <td>-3.210377</td>\n",
       "      <td>negative</td>\n",
       "    </tr>\n",
       "    <tr>\n",
       "      <th>2901</th>\n",
       "      <td>neutral</td>\n",
       "      <td>-1.048495</td>\n",
       "      <td>-0.061475</td>\n",
       "      <td>-0.905053</td>\n",
       "      <td>neutral</td>\n",
       "    </tr>\n",
       "    <tr>\n",
       "      <th>2902</th>\n",
       "      <td>negative</td>\n",
       "      <td>0.624999</td>\n",
       "      <td>-0.527663</td>\n",
       "      <td>-2.219942</td>\n",
       "      <td>negative</td>\n",
       "    </tr>\n",
       "    <tr>\n",
       "      <th>2903</th>\n",
       "      <td>neutral</td>\n",
       "      <td>0.350068</td>\n",
       "      <td>-0.734288</td>\n",
       "      <td>-1.571036</td>\n",
       "      <td>negative</td>\n",
       "    </tr>\n",
       "    <tr>\n",
       "      <th>2904</th>\n",
       "      <td>neutral</td>\n",
       "      <td>0.474726</td>\n",
       "      <td>-0.360314</td>\n",
       "      <td>-0.768441</td>\n",
       "      <td>negative</td>\n",
       "    </tr>\n",
       "    <tr>\n",
       "      <th>2905</th>\n",
       "      <td>positive</td>\n",
       "      <td>-0.548155</td>\n",
       "      <td>-0.802594</td>\n",
       "      <td>1.058741</td>\n",
       "      <td>positive</td>\n",
       "    </tr>\n",
       "    <tr>\n",
       "      <th>2906</th>\n",
       "      <td>positive</td>\n",
       "      <td>-0.775272</td>\n",
       "      <td>-0.607922</td>\n",
       "      <td>0.290300</td>\n",
       "      <td>positive</td>\n",
       "    </tr>\n",
       "    <tr>\n",
       "      <th>2907</th>\n",
       "      <td>negative</td>\n",
       "      <td>3.261606</td>\n",
       "      <td>-2.581963</td>\n",
       "      <td>-3.859283</td>\n",
       "      <td>negative</td>\n",
       "    </tr>\n",
       "    <tr>\n",
       "      <th>2908</th>\n",
       "      <td>neutral</td>\n",
       "      <td>-0.129781</td>\n",
       "      <td>-0.293715</td>\n",
       "      <td>-1.827183</td>\n",
       "      <td>negative</td>\n",
       "    </tr>\n",
       "    <tr>\n",
       "      <th>2909</th>\n",
       "      <td>negative</td>\n",
       "      <td>0.737704</td>\n",
       "      <td>-1.171446</td>\n",
       "      <td>-1.690571</td>\n",
       "      <td>negative</td>\n",
       "    </tr>\n",
       "    <tr>\n",
       "      <th>2910</th>\n",
       "      <td>negative</td>\n",
       "      <td>1.612019</td>\n",
       "      <td>-2.156759</td>\n",
       "      <td>-1.417347</td>\n",
       "      <td>negative</td>\n",
       "    </tr>\n",
       "    <tr>\n",
       "      <th>2911</th>\n",
       "      <td>negative</td>\n",
       "      <td>0.616461</td>\n",
       "      <td>-1.186815</td>\n",
       "      <td>-3.637289</td>\n",
       "      <td>negative</td>\n",
       "    </tr>\n",
       "    <tr>\n",
       "      <th>2912</th>\n",
       "      <td>negative</td>\n",
       "      <td>-0.170765</td>\n",
       "      <td>-0.394467</td>\n",
       "      <td>-1.007512</td>\n",
       "      <td>negative</td>\n",
       "    </tr>\n",
       "    <tr>\n",
       "      <th>2913</th>\n",
       "      <td>negative</td>\n",
       "      <td>2.431690</td>\n",
       "      <td>-3.044735</td>\n",
       "      <td>-2.646853</td>\n",
       "      <td>negative</td>\n",
       "    </tr>\n",
       "    <tr>\n",
       "      <th>2914</th>\n",
       "      <td>negative</td>\n",
       "      <td>0.660860</td>\n",
       "      <td>-0.894807</td>\n",
       "      <td>-1.622265</td>\n",
       "      <td>negative</td>\n",
       "    </tr>\n",
       "    <tr>\n",
       "      <th>2915</th>\n",
       "      <td>negative</td>\n",
       "      <td>1.359287</td>\n",
       "      <td>-1.273905</td>\n",
       "      <td>-4.012971</td>\n",
       "      <td>negative</td>\n",
       "    </tr>\n",
       "    <tr>\n",
       "      <th>2916</th>\n",
       "      <td>negative</td>\n",
       "      <td>0.454234</td>\n",
       "      <td>-0.268101</td>\n",
       "      <td>-2.237018</td>\n",
       "      <td>negative</td>\n",
       "    </tr>\n",
       "    <tr>\n",
       "      <th>2917</th>\n",
       "      <td>positive</td>\n",
       "      <td>-0.237363</td>\n",
       "      <td>-0.377390</td>\n",
       "      <td>-1.127047</td>\n",
       "      <td>negative</td>\n",
       "    </tr>\n",
       "    <tr>\n",
       "      <th>2918</th>\n",
       "      <td>negative</td>\n",
       "      <td>0.110997</td>\n",
       "      <td>-0.239071</td>\n",
       "      <td>-2.510242</td>\n",
       "      <td>negative</td>\n",
       "    </tr>\n",
       "    <tr>\n",
       "      <th>2919</th>\n",
       "      <td>negative</td>\n",
       "      <td>1.873289</td>\n",
       "      <td>-1.203891</td>\n",
       "      <td>-4.456960</td>\n",
       "      <td>negative</td>\n",
       "    </tr>\n",
       "    <tr>\n",
       "      <th>2920</th>\n",
       "      <td>negative</td>\n",
       "      <td>-0.283469</td>\n",
       "      <td>-0.071721</td>\n",
       "      <td>-2.817618</td>\n",
       "      <td>neutral</td>\n",
       "    </tr>\n",
       "    <tr>\n",
       "      <th>2921</th>\n",
       "      <td>negative</td>\n",
       "      <td>1.482238</td>\n",
       "      <td>-2.066253</td>\n",
       "      <td>-2.322400</td>\n",
       "      <td>negative</td>\n",
       "    </tr>\n",
       "    <tr>\n",
       "      <th>2922</th>\n",
       "      <td>negative</td>\n",
       "      <td>2.337769</td>\n",
       "      <td>-2.129436</td>\n",
       "      <td>-2.954230</td>\n",
       "      <td>negative</td>\n",
       "    </tr>\n",
       "    <tr>\n",
       "      <th>2923</th>\n",
       "      <td>negative</td>\n",
       "      <td>-0.153688</td>\n",
       "      <td>-0.099044</td>\n",
       "      <td>-1.827183</td>\n",
       "      <td>neutral</td>\n",
       "    </tr>\n",
       "    <tr>\n",
       "      <th>2924</th>\n",
       "      <td>negative</td>\n",
       "      <td>1.282443</td>\n",
       "      <td>-1.617142</td>\n",
       "      <td>-2.715159</td>\n",
       "      <td>negative</td>\n",
       "    </tr>\n",
       "    <tr>\n",
       "      <th>2925</th>\n",
       "      <td>positive</td>\n",
       "      <td>-4.311810</td>\n",
       "      <td>-0.985313</td>\n",
       "      <td>3.159148</td>\n",
       "      <td>positive</td>\n",
       "    </tr>\n",
       "    <tr>\n",
       "      <th>2926</th>\n",
       "      <td>positive</td>\n",
       "      <td>-1.169738</td>\n",
       "      <td>-0.218579</td>\n",
       "      <td>0.034153</td>\n",
       "      <td>positive</td>\n",
       "    </tr>\n",
       "    <tr>\n",
       "      <th>2927</th>\n",
       "      <td>neutral</td>\n",
       "      <td>-1.234629</td>\n",
       "      <td>1.333673</td>\n",
       "      <td>-2.373630</td>\n",
       "      <td>neutral</td>\n",
       "    </tr>\n",
       "  </tbody>\n",
       "</table>\n",
       "<p>2928 rows × 5 columns</p>\n",
       "</div>"
      ],
      "text/plain": [
       "       Correct  negative   neutral  positive   predict\n",
       "0     negative  1.296104 -1.371241 -1.946718  negative\n",
       "1      neutral  0.399589 -0.739411 -2.100406  negative\n",
       "2     positive -1.671787 -0.677936  1.024588  positive\n",
       "3      neutral -1.226091 -0.913591  1.075818  positive\n",
       "4     negative  2.050884 -2.209696 -0.802594  negative\n",
       "5     negative  1.446377 -0.952867 -3.449448  negative\n",
       "6      neutral -0.059768 -1.451500 -0.102459  negative\n",
       "7      neutral -0.401297  0.512294 -2.066253   neutral\n",
       "8     negative  2.122606 -2.325816 -4.286195  negative\n",
       "9     negative  0.886269 -0.932375 -2.049177  negative\n",
       "10    negative  1.128755 -0.915299 -2.544395  negative\n",
       "11    negative  0.104166 -1.140708 -0.273224  negative\n",
       "12     neutral -0.070014 -0.469603 -0.802594  negative\n",
       "13    negative  2.522195 -2.404367 -2.305324  negative\n",
       "14    negative  1.079233 -1.594943 -1.639341  negative\n",
       "15    negative  1.398563 -2.049177 -0.785518  negative\n",
       "16    negative  1.149247 -0.679644 -2.954230  negative\n",
       "17    negative  1.912565 -2.522195 -1.331965  negative\n",
       "18     neutral -0.671105 -0.010246 -0.700135   neutral\n",
       "19    negative  3.806346 -2.933738 -4.576495  negative\n",
       "20    negative  1.743508 -2.667345 -1.810106  negative\n",
       "21    negative  3.459694 -2.896170 -4.200812  negative\n",
       "22    negative  1.622265 -1.349041 -2.339477  negative\n",
       "23     neutral -0.247609 -0.256147 -0.819671  negative\n",
       "24    negative  1.226091 -0.896515 -3.859283  negative\n",
       "25    positive -0.626707 -1.764000  0.187841  positive\n",
       "26     neutral  0.044399 -0.679644 -0.648906  negative\n",
       "27     neutral -1.074110  1.041665 -2.920077   neutral\n",
       "28    negative  2.942276 -2.655392 -2.527318  negative\n",
       "29    negative  1.357580 -2.132852 -1.519806  negative\n",
       "...        ...       ...       ...       ...       ...\n",
       "2898   neutral -1.028004 -0.181011 -0.256147   neutral\n",
       "2899  positive -0.370559  0.051229 -1.502730   neutral\n",
       "2900  negative  1.181692 -1.569328 -3.210377  negative\n",
       "2901   neutral -1.048495 -0.061475 -0.905053   neutral\n",
       "2902  negative  0.624999 -0.527663 -2.219942  negative\n",
       "2903   neutral  0.350068 -0.734288 -1.571036  negative\n",
       "2904   neutral  0.474726 -0.360314 -0.768441  negative\n",
       "2905  positive -0.548155 -0.802594  1.058741  positive\n",
       "2906  positive -0.775272 -0.607922  0.290300  positive\n",
       "2907  negative  3.261606 -2.581963 -3.859283  negative\n",
       "2908   neutral -0.129781 -0.293715 -1.827183  negative\n",
       "2909  negative  0.737704 -1.171446 -1.690571  negative\n",
       "2910  negative  1.612019 -2.156759 -1.417347  negative\n",
       "2911  negative  0.616461 -1.186815 -3.637289  negative\n",
       "2912  negative -0.170765 -0.394467 -1.007512  negative\n",
       "2913  negative  2.431690 -3.044735 -2.646853  negative\n",
       "2914  negative  0.660860 -0.894807 -1.622265  negative\n",
       "2915  negative  1.359287 -1.273905 -4.012971  negative\n",
       "2916  negative  0.454234 -0.268101 -2.237018  negative\n",
       "2917  positive -0.237363 -0.377390 -1.127047  negative\n",
       "2918  negative  0.110997 -0.239071 -2.510242  negative\n",
       "2919  negative  1.873289 -1.203891 -4.456960  negative\n",
       "2920  negative -0.283469 -0.071721 -2.817618   neutral\n",
       "2921  negative  1.482238 -2.066253 -2.322400  negative\n",
       "2922  negative  2.337769 -2.129436 -2.954230  negative\n",
       "2923  negative -0.153688 -0.099044 -1.827183   neutral\n",
       "2924  negative  1.282443 -1.617142 -2.715159  negative\n",
       "2925  positive -4.311810 -0.985313  3.159148  positive\n",
       "2926  positive -1.169738 -0.218579  0.034153  positive\n",
       "2927   neutral -1.234629  1.333673 -2.373630   neutral\n",
       "\n",
       "[2928 rows x 5 columns]"
      ]
     },
     "execution_count": 22,
     "metadata": {},
     "output_type": "execute_result"
    }
   ],
   "source": [
    "#result[\"predict\"][1]\n",
    "result"
   ]
  },
  {
   "cell_type": "code",
   "execution_count": 23,
   "metadata": {
    "collapsed": false
   },
   "outputs": [
    {
     "data": {
      "text/plain": [
       "0.807035519125683"
      ]
     },
     "execution_count": 23,
     "metadata": {},
     "output_type": "execute_result"
    }
   ],
   "source": [
    "correct_count = 0 \n",
    "for i in range(result.shape[0]):\n",
    "    if result[\"Correct\"][i] == result[\"predict\"][i]:\n",
    "        correct_count =  correct_count+1\n",
    "        \n",
    "correct_count / result.shape[0]"
   ]
  },
  {
   "cell_type": "markdown",
   "metadata": {
    "collapsed": true
   },
   "source": [
    "### AUC\n",
    "\n",
    "### with balanced training by random sampling \n",
    "\n",
    "### extension introduce a weighted  loss function by class # class-senstive loss function \n",
    "\n",
    "### tf-idf \n",
    "\n",
    "### try bi-grams and n-grams\n",
    "\n",
    "### try using both at the same time \n",
    "\n",
    "### scklearnt package \n",
    "\n",
    "### bow tf-idf \n",
    "\n",
    "### balanced data \n",
    "\n",
    "### other evaluation metrics (extension precesion/recall, AUC,) \n",
    "\n",
    "### different models  vs different performance \n",
    "\n",
    "### boosting (balance not really need, but can try and compare) \n",
    "\n",
    "\n",
    "### DIFFERENT METRICS \n",
    "\n"
   ]
  },
  {
   "cell_type": "code",
   "execution_count": null,
   "metadata": {
    "collapsed": true
   },
   "outputs": [],
   "source": []
  },
  {
   "cell_type": "code",
   "execution_count": null,
   "metadata": {
    "collapsed": true
   },
   "outputs": [],
   "source": []
  },
  {
   "cell_type": "code",
   "execution_count": null,
   "metadata": {
    "collapsed": true
   },
   "outputs": [],
   "source": []
  },
  {
   "cell_type": "code",
   "execution_count": null,
   "metadata": {
    "collapsed": true
   },
   "outputs": [],
   "source": []
  },
  {
   "cell_type": "code",
   "execution_count": null,
   "metadata": {
    "collapsed": true
   },
   "outputs": [],
   "source": []
  },
  {
   "cell_type": "code",
   "execution_count": null,
   "metadata": {
    "collapsed": true
   },
   "outputs": [],
   "source": []
  },
  {
   "cell_type": "code",
   "execution_count": null,
   "metadata": {
    "collapsed": true
   },
   "outputs": [],
   "source": []
  },
  {
   "cell_type": "code",
   "execution_count": null,
   "metadata": {
    "collapsed": true
   },
   "outputs": [],
   "source": []
  }
 ],
 "metadata": {
  "anaconda-cloud": {},
  "kernelspec": {
   "display_name": "Python 3",
   "language": "python",
   "name": "python3"
  },
  "language_info": {
   "codemirror_mode": {
    "name": "ipython",
    "version": 3
   },
   "file_extension": ".py",
   "mimetype": "text/x-python",
   "name": "python",
   "nbconvert_exporter": "python",
   "pygments_lexer": "ipython3",
   "version": "3.6.0"
  }
 },
 "nbformat": 4,
 "nbformat_minor": 0
}
